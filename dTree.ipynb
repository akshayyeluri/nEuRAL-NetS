{
 "cells": [
  {
   "cell_type": "code",
   "execution_count": null,
   "metadata": {
    "colab": {},
    "colab_type": "code",
    "id": "l5ImSdDLXg3g"
   },
   "outputs": [],
   "source": [
    "import numpy as np\n",
    "import pandas as pd\n",
    "import pickle\n",
    "import matplotlib.pyplot as plt\n",
    "%matplotlib inline\n",
    "\n",
    "from sklearn.preprocessing import StandardScaler\n",
    "from sklearn.ensemble import RandomForestClassifier, RandomForestRegressor, AdaBoostClassifier\n",
    "from sklearn.tree import DecisionTreeRegressor, DecisionTreeClassifier\n",
    "from sklearn.model_selection import train_test_split, KFold\n",
    "# Import decision tree shiz\n",
    "\n",
    "np.random.seed(69);"
   ]
  },
  {
   "cell_type": "code",
   "execution_count": 9,
   "metadata": {
    "colab": {
     "base_uri": "https://localhost:8080/",
     "height": 34
    },
    "colab_type": "code",
    "id": "u52pTgU1Z2DX",
    "outputId": "9274496c-d636-4d05-ca7f-da5968d4b298"
   },
   "outputs": [
    {
     "name": "stdout",
     "output_type": "stream",
     "text": [
      "hello_world\n"
     ]
    }
   ],
   "source": [
    "print('hello_world')"
   ]
  },
  {
   "cell_type": "markdown",
   "metadata": {
    "colab_type": "text",
    "id": "6nG495CsXg3k"
   },
   "source": [
    "# Data Preprocessing"
   ]
  },
  {
   "cell_type": "code",
   "execution_count": 6,
   "metadata": {
    "colab": {
     "base_uri": "https://localhost:8080/",
     "height": 224
    },
    "colab_type": "code",
    "id": "vHHAwXniXg3m",
    "outputId": "36bd3f2e-c320-4e7e-f71b-3028b671e739"
   },
   "outputs": [
    {
     "data": {
      "text/html": [
       "<div>\n",
       "<style scoped>\n",
       "    .dataframe tbody tr th:only-of-type {\n",
       "        vertical-align: middle;\n",
       "    }\n",
       "\n",
       "    .dataframe tbody tr th {\n",
       "        vertical-align: top;\n",
       "    }\n",
       "\n",
       "    .dataframe thead th {\n",
       "        text-align: right;\n",
       "    }\n",
       "</style>\n",
       "<table border=\"1\" class=\"dataframe\">\n",
       "  <thead>\n",
       "    <tr style=\"text-align: right;\">\n",
       "      <th></th>\n",
       "      <th>id</th>\n",
       "      <th>last_price</th>\n",
       "      <th>mid</th>\n",
       "      <th>opened_position_qty</th>\n",
       "      <th>closed_position_qty</th>\n",
       "      <th>transacted_qty</th>\n",
       "      <th>d_open_interest</th>\n",
       "      <th>bid1</th>\n",
       "      <th>bid2</th>\n",
       "      <th>bid3</th>\n",
       "      <th>bid4</th>\n",
       "      <th>bid5</th>\n",
       "      <th>ask1</th>\n",
       "      <th>ask2</th>\n",
       "      <th>ask3</th>\n",
       "      <th>ask4</th>\n",
       "      <th>ask5</th>\n",
       "      <th>bid1vol</th>\n",
       "      <th>bid2vol</th>\n",
       "      <th>bid3vol</th>\n",
       "      <th>bid4vol</th>\n",
       "      <th>bid5vol</th>\n",
       "      <th>ask1vol</th>\n",
       "      <th>ask2vol</th>\n",
       "      <th>ask3vol</th>\n",
       "      <th>ask4vol</th>\n",
       "      <th>ask5vol</th>\n",
       "      <th>y</th>\n",
       "    </tr>\n",
       "  </thead>\n",
       "  <tbody>\n",
       "    <tr>\n",
       "      <th>0</th>\n",
       "      <td>0</td>\n",
       "      <td>3842.4</td>\n",
       "      <td>3842.6</td>\n",
       "      <td>NaN</td>\n",
       "      <td>NaN</td>\n",
       "      <td>103.0</td>\n",
       "      <td>0</td>\n",
       "      <td>3842.4</td>\n",
       "      <td>3842.0</td>\n",
       "      <td>3841.8</td>\n",
       "      <td>3841.0</td>\n",
       "      <td>3840.4</td>\n",
       "      <td>3842.8</td>\n",
       "      <td>3843.4</td>\n",
       "      <td>3843.6</td>\n",
       "      <td>3843.8</td>\n",
       "      <td>3844.0</td>\n",
       "      <td>8</td>\n",
       "      <td>1</td>\n",
       "      <td>6</td>\n",
       "      <td>14</td>\n",
       "      <td>6</td>\n",
       "      <td>6</td>\n",
       "      <td>1</td>\n",
       "      <td>1</td>\n",
       "      <td>10</td>\n",
       "      <td>2</td>\n",
       "      <td>1</td>\n",
       "    </tr>\n",
       "    <tr>\n",
       "      <th>1</th>\n",
       "      <td>1</td>\n",
       "      <td>3842.8</td>\n",
       "      <td>3843.4</td>\n",
       "      <td>6.0</td>\n",
       "      <td>49.0</td>\n",
       "      <td>55.0</td>\n",
       "      <td>-43</td>\n",
       "      <td>3843.0</td>\n",
       "      <td>3842.8</td>\n",
       "      <td>3842.4</td>\n",
       "      <td>3842.0</td>\n",
       "      <td>3841.8</td>\n",
       "      <td>3843.8</td>\n",
       "      <td>3844.0</td>\n",
       "      <td>3844.4</td>\n",
       "      <td>3844.6</td>\n",
       "      <td>3844.8</td>\n",
       "      <td>7</td>\n",
       "      <td>6</td>\n",
       "      <td>11</td>\n",
       "      <td>1</td>\n",
       "      <td>6</td>\n",
       "      <td>1</td>\n",
       "      <td>4</td>\n",
       "      <td>4</td>\n",
       "      <td>1</td>\n",
       "      <td>13</td>\n",
       "      <td>0</td>\n",
       "    </tr>\n",
       "    <tr>\n",
       "      <th>2</th>\n",
       "      <td>2</td>\n",
       "      <td>3844.0</td>\n",
       "      <td>3844.3</td>\n",
       "      <td>7.0</td>\n",
       "      <td>77.0</td>\n",
       "      <td>84.0</td>\n",
       "      <td>-69</td>\n",
       "      <td>3843.8</td>\n",
       "      <td>3843.6</td>\n",
       "      <td>3843.2</td>\n",
       "      <td>3843.0</td>\n",
       "      <td>3842.8</td>\n",
       "      <td>3844.8</td>\n",
       "      <td>3845.0</td>\n",
       "      <td>3845.4</td>\n",
       "      <td>3845.6</td>\n",
       "      <td>3845.8</td>\n",
       "      <td>3</td>\n",
       "      <td>1</td>\n",
       "      <td>4</td>\n",
       "      <td>21</td>\n",
       "      <td>12</td>\n",
       "      <td>1</td>\n",
       "      <td>16</td>\n",
       "      <td>10</td>\n",
       "      <td>4</td>\n",
       "      <td>9</td>\n",
       "      <td>0</td>\n",
       "    </tr>\n",
       "    <tr>\n",
       "      <th>3</th>\n",
       "      <td>3</td>\n",
       "      <td>3843.8</td>\n",
       "      <td>3843.4</td>\n",
       "      <td>3.0</td>\n",
       "      <td>34.0</td>\n",
       "      <td>37.0</td>\n",
       "      <td>-30</td>\n",
       "      <td>3843.0</td>\n",
       "      <td>3842.8</td>\n",
       "      <td>3842.4</td>\n",
       "      <td>3842.0</td>\n",
       "      <td>3841.4</td>\n",
       "      <td>3843.8</td>\n",
       "      <td>3844.0</td>\n",
       "      <td>3844.4</td>\n",
       "      <td>3844.6</td>\n",
       "      <td>3844.8</td>\n",
       "      <td>10</td>\n",
       "      <td>13</td>\n",
       "      <td>12</td>\n",
       "      <td>2</td>\n",
       "      <td>4</td>\n",
       "      <td>2</td>\n",
       "      <td>7</td>\n",
       "      <td>1</td>\n",
       "      <td>2</td>\n",
       "      <td>11</td>\n",
       "      <td>1</td>\n",
       "    </tr>\n",
       "    <tr>\n",
       "      <th>4</th>\n",
       "      <td>4</td>\n",
       "      <td>3843.2</td>\n",
       "      <td>3843.1</td>\n",
       "      <td>3.0</td>\n",
       "      <td>38.0</td>\n",
       "      <td>41.0</td>\n",
       "      <td>-35</td>\n",
       "      <td>3842.8</td>\n",
       "      <td>3842.4</td>\n",
       "      <td>3842.0</td>\n",
       "      <td>3841.8</td>\n",
       "      <td>3841.4</td>\n",
       "      <td>3843.4</td>\n",
       "      <td>3844.0</td>\n",
       "      <td>3844.6</td>\n",
       "      <td>3844.8</td>\n",
       "      <td>3845.0</td>\n",
       "      <td>14</td>\n",
       "      <td>12</td>\n",
       "      <td>2</td>\n",
       "      <td>2</td>\n",
       "      <td>4</td>\n",
       "      <td>1</td>\n",
       "      <td>3</td>\n",
       "      <td>1</td>\n",
       "      <td>11</td>\n",
       "      <td>15</td>\n",
       "      <td>1</td>\n",
       "    </tr>\n",
       "  </tbody>\n",
       "</table>\n",
       "</div>"
      ],
      "text/plain": [
       "   id  last_price     mid  opened_position_qty   ...  ask3vol  ask4vol  ask5vol  y\n",
       "0   0      3842.4  3842.6                   NaN  ...        1       10        2  1\n",
       "1   1      3842.8  3843.4                   6.0  ...        4        1       13  0\n",
       "2   2      3844.0  3844.3                   7.0  ...       10        4        9  0\n",
       "3   3      3843.8  3843.4                   3.0  ...        1        2       11  1\n",
       "4   4      3843.2  3843.1                   3.0  ...        1       11       15  1\n",
       "\n",
       "[5 rows x 28 columns]"
      ]
     },
     "execution_count": 6,
     "metadata": {
      "tags": []
     },
     "output_type": "execute_result"
    }
   ],
   "source": [
    "train_df = pd.read_csv('sample_data/train.csv')\n",
    "train_df.head(5)"
   ]
  },
  {
   "cell_type": "code",
   "execution_count": 7,
   "metadata": {
    "colab": {
     "base_uri": "https://localhost:8080/",
     "height": 34
    },
    "colab_type": "code",
    "id": "FM8O8XJcXg3q",
    "outputId": "260f48f6-40a9-4ce8-c3b3-7dfa4cf87e1b"
   },
   "outputs": [
    {
     "data": {
      "text/plain": [
       "((592380, 27), (592380,))"
      ]
     },
     "execution_count": 7,
     "metadata": {
      "tags": []
     },
     "output_type": "execute_result"
    }
   ],
   "source": [
    "# Get train and test data as np arrays\n",
    "X0, Y0 = train_df.values[:, :-1], train_df.values[:, -1]\n",
    "(N, d) = X0.shape\n",
    "X0.shape, Y0.shape"
   ]
  },
  {
   "cell_type": "code",
   "execution_count": 8,
   "metadata": {
    "colab": {
     "base_uri": "https://localhost:8080/",
     "height": 34
    },
    "colab_type": "code",
    "id": "pDYvAid-Xg3t",
    "outputId": "af934c9a-02c6-4c6c-cacf-2c3a15db474e"
   },
   "outputs": [
    {
     "name": "stdout",
     "output_type": "stream",
     "text": [
      "Cols where train data is Nan: [3 4]\n"
     ]
    }
   ],
   "source": [
    "# Only columns 3 and 4 (opened_position_qty and closed_position_qty) have NaN's\n",
    "# Have to decide how to handle NaN's at some point\n",
    "print(f'Cols where train data is Nan: {np.where(np.any(np.isnan(X0), axis=0))[0]}')"
   ]
  },
  {
   "cell_type": "code",
   "execution_count": null,
   "metadata": {
    "colab": {},
    "colab_type": "code",
    "id": "HiRqaiOoXg3w"
   },
   "outputs": [],
   "source": [
    "def get_pars_for_processing(X):\n",
    "    keep_cols = np.all(~np.isnan(X), axis=0) # Drop NaN columns\n",
    "    keep_cols[0] = False # Don't keep id\n",
    "    scaler = StandardScaler()\n",
    "    scaler.fit(X[:, keep_cols])\n",
    "    return scaler, keep_cols\n",
    "\n",
    "def process_with_pars(X, params):\n",
    "    '''\n",
    "    Function that takes training / test data, \n",
    "    and process it for training / evaluation\n",
    "    '''\n",
    "    scaler, keep_cols = params\n",
    "    return scaler.transform(X[:, keep_cols])"
   ]
  },
  {
   "cell_type": "markdown",
   "metadata": {
    "colab_type": "text",
    "id": "p8DaFf7qXg30"
   },
   "source": [
    "# Do Cross Validation"
   ]
  },
  {
   "cell_type": "code",
   "execution_count": null,
   "metadata": {
    "colab": {},
    "colab_type": "code",
    "id": "a0spfsJhXg31",
    "outputId": "8c022910-33ca-4849-9c95-7e0cf6d66d4e"
   },
   "outputs": [
    {
     "data": {
      "text/plain": [
       "0.6388399338262603"
      ]
     },
     "execution_count": 7,
     "metadata": {
      "tags": []
     },
     "output_type": "execute_result"
    }
   ],
   "source": [
    "k = 5\n",
    "accs = np.empty(k)\n",
    "kf = KFold(n_splits=k, shuffle=True)\n",
    "\n",
    "for i, (train_inds, val_inds) in enumerate(kf.split(X0)):\n",
    "    X, Y = X0[train_inds], Y0[train_inds]\n",
    "    valX, valY = X0[val_inds], Y0[val_inds]\n",
    "    pars = get_pars_for_processing(X)\n",
    "    X, valX = process_with_pars(X, pars), process_with_pars(valX, pars)\n",
    "\n",
    "    clf = RandomForestRegressor(n_estimators=10)\n",
    "    clf.fit(X, Y)\n",
    "    accs[i] = np.sum(np.round(clf.predict(valX)) == valY) / len(valY)\n",
    "    \n",
    "acc = np.mean(accs)\n",
    "acc"
   ]
  },
  {
   "cell_type": "markdown",
   "metadata": {
    "colab_type": "text",
    "id": "4MpngDdzXg35"
   },
   "source": [
    "# Train final Model"
   ]
  },
  {
   "cell_type": "code",
   "execution_count": null,
   "metadata": {
    "colab": {},
    "colab_type": "code",
    "id": "03UsMyG9Xg36"
   },
   "outputs": [],
   "source": [
    "pars = get_pars_for_processing(X0)\n",
    "process = lambda X : process_with_pars(X, pars)\n",
    "X = process(X0)\n",
    "\n",
    "clf = RandomForestRegressor(n_estimators=10)\n",
    "clf.fit(X, Y0);"
   ]
  },
  {
   "cell_type": "markdown",
   "metadata": {
    "colab_type": "text",
    "id": "oQ2cFjuOXg39"
   },
   "source": [
    "# Save Final Model"
   ]
  },
  {
   "cell_type": "code",
   "execution_count": null,
   "metadata": {
    "colab": {},
    "colab_type": "code",
    "id": "-lVA8vTOXg39"
   },
   "outputs": [],
   "source": [
    "mName = 'test_model.pkl'\n",
    "with open(mName, 'wb') as f:\n",
    "    pickle.dump(clf, f)"
   ]
  },
  {
   "cell_type": "code",
   "execution_count": null,
   "metadata": {
    "colab": {},
    "colab_type": "code",
    "id": "FkUQ_YdDXg4B"
   },
   "outputs": [],
   "source": [
    "mName = 'test_model.pkl'\n",
    "with open(mName, 'rb') as f:\n",
    "    clf = pickle.load(f)"
   ]
  },
  {
   "cell_type": "markdown",
   "metadata": {
    "colab_type": "text",
    "id": "ZJIPED2QXg4F"
   },
   "source": [
    "# Get Predictions on Test Set"
   ]
  },
  {
   "cell_type": "code",
   "execution_count": null,
   "metadata": {
    "colab": {},
    "colab_type": "code",
    "id": "W1Ls_mAjXg4G"
   },
   "outputs": [],
   "source": [
    "test_df = pd.read_csv('test.csv')\n",
    "tX = process(test_df.values)\n",
    "\n",
    "output = clf.predict(tX)\n",
    " \n",
    "output_df = pd.DataFrame({'id':test_df['id'], 'Predicted': output})\n",
    "output_df.to_csv('submission.csv', index=False)"
   ]
  }
 ],
 "metadata": {
  "colab": {
   "name": "dTree.ipynb",
   "provenance": [],
   "toc_visible": true
  },
  "kernelspec": {
   "display_name": "neural",
   "language": "python",
   "name": "neural"
  },
  "language_info": {
   "codemirror_mode": {
    "name": "ipython",
    "version": 3
   },
   "file_extension": ".py",
   "mimetype": "text/x-python",
   "name": "python",
   "nbconvert_exporter": "python",
   "pygments_lexer": "ipython3",
   "version": "3.6.7"
  }
 },
 "nbformat": 4,
 "nbformat_minor": 2
}
