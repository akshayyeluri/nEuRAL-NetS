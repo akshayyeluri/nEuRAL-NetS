{
 "cells": [
  {
   "cell_type": "code",
   "execution_count": 6,
   "metadata": {},
   "outputs": [
    {
     "name": "stdout",
     "output_type": "stream",
     "text": [
      "Number of cores to use:  4\n"
     ]
    }
   ],
   "source": [
    "import numpy as np\n",
    "import pandas as pd\n",
    "import pickle, json\n",
    "import tqdm\n",
    "from datetime import datetime\n",
    "import matplotlib.pyplot as plt\n",
    "%matplotlib inline\n",
    "\n",
    "from sklearn.metrics import roc_auc_score as auc\n",
    "from sklearn.model_selection import train_test_split, KFold\n",
    "from sklearn.ensemble import RandomForestClassifier, AdaBoostClassifier, GradientBoostingClassifier\n",
    "from skorch import NeuralNetClassifier\n",
    "\n",
    "import transforms as t\n",
    "import classifiers as clsf\n",
    "\n",
    "import multiprocessing\n",
    "n_cores = multiprocessing.cpu_count()\n",
    "print(f'Number of cores to use: ', n_cores)\n",
    "\n",
    "np.random.seed(69)"
   ]
  },
  {
   "cell_type": "markdown",
   "metadata": {},
   "source": [
    "# Data Preprocessing"
   ]
  },
  {
   "cell_type": "code",
   "execution_count": 2,
   "metadata": {},
   "outputs": [],
   "source": [
    "train_df0 = pd.read_csv('train.csv')\n",
    "# Y0 are new labels (maybe smoothed or with regression), Y_c0 are original class labels\n",
    "X0_df, Y_c0, Y0 = t.transform_df(train_df0, train=True, as_df=True, k=None)\n",
    "X0 = X0_df.values.astype(np.float32)\n",
    "Y_c0, Y0 = Y_c0.astype(np.int64), Y0.astype(np.int64)\n",
    "(N, D) = X0.shape"
   ]
  },
  {
   "cell_type": "code",
   "execution_count": 3,
   "metadata": {},
   "outputs": [],
   "source": [
    "group_inds = t.get_group_inds(X0_df) # This will normalize all prices together, and all vols\n",
    "#group_inds = [] # This will normalize each feature separately\n",
    "def get_pars(X):\n",
    "    return t.get_pars_for_processing(X, group_inds)"
   ]
  },
  {
   "cell_type": "markdown",
   "metadata": {},
   "source": [
    "# Model Selection"
   ]
  },
  {
   "cell_type": "markdown",
   "metadata": {},
   "source": [
    "### Grid Search"
   ]
  },
  {
   "cell_type": "code",
   "execution_count": 4,
   "metadata": {},
   "outputs": [
    {
     "name": "stdout",
     "output_type": "stream",
     "text": [
      "  epoch    train_loss    valid_acc    valid_loss     dur\n",
      "-------  ------------  -----------  ------------  ------\n",
      "      1        \u001b[36m0.6421\u001b[0m       \u001b[32m0.6450\u001b[0m        \u001b[35m0.6370\u001b[0m  1.6783\n",
      "      2        \u001b[36m0.6353\u001b[0m       \u001b[32m0.6476\u001b[0m        \u001b[35m0.6354\u001b[0m  1.6941\n",
      "      3        \u001b[36m0.6319\u001b[0m       \u001b[32m0.6480\u001b[0m        \u001b[35m0.6316\u001b[0m  1.8798\n",
      "Tuning NN ...\n",
      "Re-initializing module because the following parameters were re-set: drop, hidden, nFeat.\n",
      "Re-initializing optimizer.\n",
      "Re-initializing module because the following parameters were re-set: drop, hidden, nFeat.\n",
      "Re-initializing optimizer.\n",
      "  epoch    train_loss    valid_acc    valid_loss     dur\n",
      "-------  ------------  -----------  ------------  ------\n",
      "      1        \u001b[36m0.6540\u001b[0m       \u001b[32m0.6449\u001b[0m        \u001b[35m0.6448\u001b[0m  1.7386\n",
      "      2        \u001b[36m0.6455\u001b[0m       0.6448        \u001b[35m0.6415\u001b[0m  1.8781\n",
      "Tuned in: 171.2130479812622\n",
      "{'lr': 0.01, 'max_epochs': 2, 'module__drop': 0.4, 'module__hidden': 20}\n"
     ]
    },
    {
     "data": {
      "text/html": [
       "<div>\n",
       "<style scoped>\n",
       "    .dataframe tbody tr th:only-of-type {\n",
       "        vertical-align: middle;\n",
       "    }\n",
       "\n",
       "    .dataframe tbody tr th {\n",
       "        vertical-align: top;\n",
       "    }\n",
       "\n",
       "    .dataframe thead th {\n",
       "        text-align: right;\n",
       "    }\n",
       "</style>\n",
       "<table border=\"1\" class=\"dataframe\">\n",
       "  <thead>\n",
       "    <tr style=\"text-align: right;\">\n",
       "      <th></th>\n",
       "      <th>Classifier</th>\n",
       "      <th>Type</th>\n",
       "      <th>Tuning</th>\n",
       "      <th>Accuracy</th>\n",
       "      <th>AUC</th>\n",
       "    </tr>\n",
       "  </thead>\n",
       "  <tbody>\n",
       "    <tr>\n",
       "      <th>1</th>\n",
       "      <td>NN</td>\n",
       "      <td>test</td>\n",
       "      <td>base</td>\n",
       "      <td>0.641367</td>\n",
       "      <td>0.630645</td>\n",
       "    </tr>\n",
       "    <tr>\n",
       "      <th>3</th>\n",
       "      <td>NN</td>\n",
       "      <td>test</td>\n",
       "      <td>tuned</td>\n",
       "      <td>0.634884</td>\n",
       "      <td>0.609587</td>\n",
       "    </tr>\n",
       "  </tbody>\n",
       "</table>\n",
       "</div>"
      ],
      "text/plain": [
       "  Classifier  Type Tuning  Accuracy       AUC\n",
       "1         NN  test   base  0.641367  0.630645\n",
       "3         NN  test  tuned  0.634884  0.609587"
      ]
     },
     "execution_count": 4,
     "metadata": {},
     "output_type": "execute_result"
    }
   ],
   "source": [
    "### Just gonna take a random 10th for validation\n",
    "X, valX, Y, valY = train_test_split(X0, Y0, shuffle=True, test_size=0.1)\n",
    "pars = get_pars(X)\n",
    "X, valX = t.process_with_pars(X, pars), t.process_with_pars(valX, pars)\n",
    "\n",
    "frac = 1 / 4\n",
    "t_size, v_size = int(X.shape[0] * frac), int(valX.shape[0] * frac)\n",
    "train_res, test_res, models = clsf.TuneClassifiers(X[:t_size], valX[:v_size], Y[:t_size], valY[:v_size], \\\n",
    "                                                   algs=['NN'], nFeat=D)\n",
    "test_res"
   ]
  },
  {
   "cell_type": "markdown",
   "metadata": {},
   "source": [
    "### Save grid search results"
   ]
  },
  {
   "cell_type": "code",
   "execution_count": 7,
   "metadata": {},
   "outputs": [],
   "source": [
    "cv_res_dict = {}\n",
    "for name, model in models.items():\n",
    "    info_dict = model.cv_results_\n",
    "    s = list(zip(info_dict['params'],\\\n",
    "                 info_dict['mean_test_score'],\\\n",
    "                 info_dict['std_test_score']))\n",
    "    s = sorted(s, key=lambda x: x[1], reverse=True) # Sort by mean test_score\n",
    "    cv_res_dict[name] = s\n",
    "\n",
    "gName = 'grid_search.json'\n",
    "with open(gName, 'w') as f:\n",
    "    json.dump(cv_res_dict, f, indent=4, sort_keys=True)"
   ]
  },
  {
   "cell_type": "markdown",
   "metadata": {},
   "source": [
    "### Cross Validation"
   ]
  },
  {
   "cell_type": "code",
   "execution_count": 9,
   "metadata": {},
   "outputs": [
    {
     "name": "stderr",
     "output_type": "stream",
     "text": [
      "CV fold: 0it [00:00, ?it/s]"
     ]
    },
    {
     "name": "stdout",
     "output_type": "stream",
     "text": [
      "  epoch    train_loss    valid_acc    valid_loss     dur\n",
      "-------  ------------  -----------  ------------  ------\n",
      "      1        \u001b[36m0.6491\u001b[0m       \u001b[32m0.6431\u001b[0m        \u001b[35m0.6445\u001b[0m  7.8253\n",
      "  epoch    train_loss    valid_acc    valid_loss     dur\n",
      "-------  ------------  -----------  ------------  ------\n",
      "      1        \u001b[36m0.6489\u001b[0m       \u001b[32m0.6435\u001b[0m        \u001b[35m0.6431\u001b[0m  7.5969\n",
      "  epoch    train_loss    valid_acc    valid_loss     dur\n",
      "-------  ------------  -----------  ------------  ------\n",
      "      1        \u001b[36m0.6491\u001b[0m       \u001b[32m0.6437\u001b[0m        \u001b[35m0.6443\u001b[0m  7.1470\n",
      "      2        \u001b[36m0.6414\u001b[0m       \u001b[32m0.6435\u001b[0m        \u001b[35m0.6381\u001b[0m  6.9375\n",
      "      2        \u001b[36m0.6411\u001b[0m       0.6434        \u001b[35m0.6380\u001b[0m  6.8446\n",
      "      2        \u001b[36m0.6418\u001b[0m       \u001b[32m0.6440\u001b[0m        \u001b[35m0.6383\u001b[0m  6.9132\n"
     ]
    },
    {
     "name": "stderr",
     "output_type": "stream",
     "text": [
      "CV fold: 3it [00:23,  7.77s/it]\n"
     ]
    },
    {
     "data": {
      "text/plain": [
       "(0.6153201007708898, 0.6434501502413991)"
      ]
     },
     "execution_count": 9,
     "metadata": {},
     "output_type": "execute_result"
    }
   ],
   "source": [
    "#clf = RandomForestClassifier(**models['RF'].best_params_)\n",
    "#clf = AdaBoostClassifier(**models['ADB'].best_params_)\n",
    "#clf = GradientBoostingClassifier(**models['GDB'].best_params_)\n",
    "#clf = GradientBoostingClassifier(**models['GDB'].best_params_)\n",
    "clf = NeuralNetClassifier(clsf.NNModel, **models['NN'].best_params_,\\\n",
    "                          iterator_train__shuffle=True, module__nFeat=D)\n",
    "aucs, accs = clsf.cross_val(clf, X0, Y0, (get_pars, t.process_with_pars))\n",
    "aucs.mean(), accs.mean()"
   ]
  },
  {
   "cell_type": "markdown",
   "metadata": {},
   "source": [
    "# Final Fitting"
   ]
  },
  {
   "cell_type": "code",
   "execution_count": 10,
   "metadata": {},
   "outputs": [
    {
     "name": "stdout",
     "output_type": "stream",
     "text": [
      "  epoch    train_loss    valid_acc    valid_loss     dur\n",
      "-------  ------------  -----------  ------------  ------\n",
      "      1        \u001b[36m0.6469\u001b[0m       \u001b[32m0.6437\u001b[0m        \u001b[35m0.6397\u001b[0m  9.2470\n",
      "      2        \u001b[36m0.6388\u001b[0m       \u001b[32m0.6440\u001b[0m        \u001b[35m0.6352\u001b[0m  9.0776\n"
     ]
    }
   ],
   "source": [
    "# Maybe parallelize\n",
    "if 'n_jobs' in clf.get_params():\n",
    "    clf.set_params(n_jobs=n_cores)\n",
    "\n",
    "pars = get_pars(X0)\n",
    "process = lambda x: t.process_with_pars(x, pars).astype(np.float32)\n",
    "X = process(X0)\n",
    "clf.fit(X, Y0);"
   ]
  },
  {
   "cell_type": "markdown",
   "metadata": {},
   "source": [
    "### Save Model"
   ]
  },
  {
   "cell_type": "code",
   "execution_count": 11,
   "metadata": {},
   "outputs": [],
   "source": [
    "fName = datetime.today().strftime('%y%m%d_%H%M') + \"_model.pkl\"\n",
    "\n",
    "with open(fName, 'wb') as f:\n",
    "    pickle.dump(clf, f)\n",
    "    \n",
    "with open(fName, 'rb') as f:\n",
    "    clf = pickle.load(f)"
   ]
  },
  {
   "cell_type": "markdown",
   "metadata": {},
   "source": [
    "### Feature Importances"
   ]
  },
  {
   "cell_type": "code",
   "execution_count": 14,
   "metadata": {},
   "outputs": [
    {
     "data": {
      "text/plain": [
       "{}"
      ]
     },
     "execution_count": 14,
     "metadata": {},
     "output_type": "execute_result"
    }
   ],
   "source": [
    "imp_dict = {}\n",
    "if hasattr(clf, 'feature_importance_'):\n",
    "    inds = np.array(sorted(range(len(X0_df.columns)), \\\n",
    "                           key=lambda x: clf.feature_importances_[x], \\\n",
    "                           reverse=True))\n",
    "    imp_dict = dict(zip(X0_df.columns[inds], clf.feature_importances_[inds]))\n",
    "imp_dict"
   ]
  },
  {
   "cell_type": "markdown",
   "metadata": {},
   "source": [
    "### Final train performance (on original labels)"
   ]
  },
  {
   "cell_type": "code",
   "execution_count": 15,
   "metadata": {},
   "outputs": [
    {
     "data": {
      "text/plain": [
       "0.6207880074644534"
      ]
     },
     "execution_count": 15,
     "metadata": {},
     "output_type": "execute_result"
    }
   ],
   "source": [
    "auc(Y_c0, clf.predict_proba(X)[:,1]) # Get auc on original labels"
   ]
  },
  {
   "cell_type": "code",
   "execution_count": 16,
   "metadata": {},
   "outputs": [
    {
     "data": {
      "text/plain": [
       "0.6436949255545427"
      ]
     },
     "execution_count": 16,
     "metadata": {},
     "output_type": "execute_result"
    }
   ],
   "source": [
    "(clf.predict(X) == Y0).mean()"
   ]
  },
  {
   "cell_type": "markdown",
   "metadata": {},
   "source": [
    "# Get Predictions on Test Set"
   ]
  },
  {
   "cell_type": "code",
   "execution_count": 21,
   "metadata": {},
   "outputs": [],
   "source": [
    "test_df0 = pd.read_csv('test.csv')\n",
    "tX = t.transform_df(test_df0)\n",
    "tX = process(tX)\n",
    "\n",
    "output = clf.predict_proba(tX)[:, 1]\n",
    "     \n",
    "output_df = pd.DataFrame({'id':test_df0['id'], 'Predicted': output})\n",
    "output_df.to_csv(f\"submission_{datetime.today().strftime('%y%m%d_%H%M')}.csv\", index=False)"
   ]
  },
  {
   "cell_type": "markdown",
   "metadata": {},
   "source": [
    "### Sanity checks on output"
   ]
  },
  {
   "cell_type": "code",
   "execution_count": 22,
   "metadata": {},
   "outputs": [
    {
     "name": "stdout",
     "output_type": "stream",
     "text": [
      "mean of train_labels: 0.3569583713157095\n",
      "mean of train_preds: 0.6232185959815979\n"
     ]
    },
    {
     "data": {
      "image/png": "[encoded data removed]",
      "text/plain": [
       "<Figure size 432x288 with 1 Axes>"
      ]
     },
     "metadata": {
      "needs_background": "light"
     },
     "output_type": "display_data"
    }
   ],
   "source": [
    "assert(np.all((0 <= output) & (output <= 1)))\n",
    "print(f'mean of train_labels: {np.mean(Y_c0)}')\n",
    "print(f'mean of train_preds: {np.mean(output)}')\n",
    "plt.hist(output);"
   ]
  },
  {
   "cell_type": "markdown",
   "metadata": {},
   "source": [
    "# random code scraps"
   ]
  },
  {
   "cell_type": "code",
   "execution_count": 23,
   "metadata": {},
   "outputs": [
    {
     "ename": "ValueError",
     "evalue": "Garbage Beyond!",
     "output_type": "error",
     "traceback": [
      "\u001b[0;31m---------------------------------------------------------------------------\u001b[0m",
      "\u001b[0;31mValueError\u001b[0m                                Traceback (most recent call last)",
      "\u001b[0;32m<ipython-input-23-b3d7f98920aa>\u001b[0m in \u001b[0;36m<module>\u001b[0;34m\u001b[0m\n\u001b[0;32m----> 1\u001b[0;31m \u001b[0;32mraise\u001b[0m \u001b[0mValueError\u001b[0m\u001b[0;34m(\u001b[0m\u001b[0;34m'Garbage Beyond!'\u001b[0m\u001b[0;34m)\u001b[0m\u001b[0;34m\u001b[0m\u001b[0;34m\u001b[0m\u001b[0m\n\u001b[0m",
      "\u001b[0;31mValueError\u001b[0m: Garbage Beyond!"
     ]
    }
   ],
   "source": [
    "raise ValueError('Garbage Beyond!')"
   ]
  },
  {
   "cell_type": "code",
   "execution_count": null,
   "metadata": {},
   "outputs": [],
   "source": [
    "parFName = 'best_pars.pars'\n",
    "with open(parFName, 'rb') as f:\n",
    "    best_pars = pickle.load(f)\n",
    "    \n",
    "best_pars"
   ]
  },
  {
   "cell_type": "code",
   "execution_count": null,
   "metadata": {},
   "outputs": [],
   "source": [
    "pars = get_pars(X0)\n",
    "process = lambda x: t.process_with_pars(x, pars)\n",
    "reps = 4\n",
    "\n",
    "for clf in tqdm.tqdm_notebook([RandomForestClassifier(max_features=0.3, min_samples_leaf=100, n_estimators=150),\n",
    "            RandomForestClassifier(max_features=0.4, min_samples_leaf=80, n_estimators=150),\n",
    "            RandomForestClassifier(max_features=0.5, min_samples_leaf=50, n_estimators=150)] * reps):\n",
    "    # Maybe parallelize\n",
    "    if 'n_jobs' in clf.get_params():\n",
    "        clf.set_params(n_jobs=n_cores)\n",
    "    X = process(X0)\n",
    "    clf.fit(X, Y0)\n",
    "    fName = datetime.today().strftime('%y%m%d_%H%M') + \"_model.pkl\"\n",
    "    with open(fName, 'wb') as f:\n",
    "        pickle.dump(clf, f)"
   ]
  }
 ],
 "metadata": {
  "kernelspec": {
   "display_name": "neural",
   "language": "python",
   "name": "neural"
  },
  "language_info": {
   "codemirror_mode": {
    "name": "ipython",
    "version": 3
   },
   "file_extension": ".py",
   "mimetype": "text/x-python",
   "name": "python",
   "nbconvert_exporter": "python",
   "pygments_lexer": "ipython3",
   "version": "3.6.7"
  }
 },
 "nbformat": 4,
 "nbformat_minor": 2
}
