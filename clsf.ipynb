{
 "cells": [
  {
   "cell_type": "code",
   "execution_count": 1,
   "metadata": {},
   "outputs": [
    {
     "name": "stdout",
     "output_type": "stream",
     "text": [
      "Number of cores to use:  4\n"
     ]
    }
   ],
   "source": [
    "import numpy as np\n",
    "import pandas as pd\n",
    "import pickle, json\n",
    "import tqdm\n",
    "from datetime import datetime\n",
    "import matplotlib.pyplot as plt\n",
    "%matplotlib inline\n",
    "\n",
    "from sklearn.metrics import roc_auc_score as auc\n",
    "from sklearn.model_selection import train_test_split, KFold\n",
    "from sklearn.ensemble import RandomForestClassifier, AdaBoostClassifier, GradientBoostingClassifier\n",
    "from skorch import NeuralNetClassifier\n",
    "\n",
    "import transforms as t\n",
    "import classifiers as clsf\n",
    "\n",
    "import multiprocessing\n",
    "n_cores = multiprocessing.cpu_count()\n",
    "print(f'Number of cores to use: ', n_cores)\n",
    "\n",
    "np.random.seed(69)"
   ]
  },
  {
   "cell_type": "markdown",
   "metadata": {},
   "source": [
    "# Data Preprocessing"
   ]
  },
  {
   "cell_type": "code",
   "execution_count": 2,
   "metadata": {},
   "outputs": [],
   "source": [
    "train_df0 = pd.read_csv('train.csv')\n",
    "# Y0 are new labels (maybe smoothed or with regression), Y_c0 are original class labels\n",
    "X0_df, Y_c0, Y0 = t.transform_df(train_df0, train=True, as_df=True, k=None)\n",
    "X0 = X0_df.values.astype(np.float32)\n",
    "Y_c0, Y0 = Y_c0.astype(np.int64), Y0.astype(np.int64)\n",
    "(N, D) = X0.shape"
   ]
  },
  {
   "cell_type": "code",
   "execution_count": 3,
   "metadata": {},
   "outputs": [],
   "source": [
    "group_inds = t.get_group_inds(X0_df) # This will normalize all prices together, and all vols\n",
    "#group_inds = [] # This will normalize each feature separately\n",
    "def get_pars(X):\n",
    "    return t.get_pars_for_processing(X, group_inds)"
   ]
  },
  {
   "cell_type": "markdown",
   "metadata": {},
   "source": [
    "# Model Selection"
   ]
  },
  {
   "cell_type": "markdown",
   "metadata": {},
   "source": [
    "### Grid Search"
   ]
  },
  {
   "cell_type": "code",
   "execution_count": 4,
   "metadata": {},
   "outputs": [
    {
     "name": "stdout",
     "output_type": "stream",
     "text": [
      "  epoch    train_loss    valid_acc    valid_loss     dur\n",
      "-------  ------------  -----------  ------------  ------\n",
      "      1        \u001b[36m0.6787\u001b[0m       \u001b[32m0.6514\u001b[0m        \u001b[35m0.6462\u001b[0m  0.0717\n",
      "      2        \u001b[36m0.6492\u001b[0m       0.6504        \u001b[35m0.6450\u001b[0m  0.0750\n",
      "      3        \u001b[36m0.6448\u001b[0m       0.6485        \u001b[35m0.6415\u001b[0m  0.0780\n",
      "Tuning ADB ...\n",
      "Tuned in: 5.582156181335449\n",
      "{'learning_rate': 0.2, 'n_estimators': 50}\n",
      "Tuning RF ...\n",
      "Tuned in: 6.695171117782593\n",
      "{'max_features': 'sqrt', 'min_samples_leaf': 20, 'n_estimators': 50}\n",
      "Tuning GDB ...\n",
      "Tuned in: 3.4802229404449463\n",
      "{'learning_rate': 0.1, 'n_estimators': 50}\n",
      "Tuning NN ...\n",
      "Re-initializing module because the following parameters were re-set: drop, hidden, nFeat.\n",
      "Re-initializing optimizer.\n",
      "Re-initializing module because the following parameters were re-set: drop, hidden, nFeat.\n",
      "Re-initializing optimizer.\n",
      "  epoch    train_loss    valid_acc    valid_loss     dur\n",
      "-------  ------------  -----------  ------------  ------\n",
      "      1        \u001b[36m0.7194\u001b[0m       \u001b[32m0.5661\u001b[0m        \u001b[35m0.6887\u001b[0m  0.0705\n",
      "      2        \u001b[36m0.6774\u001b[0m       \u001b[32m0.6439\u001b[0m        \u001b[35m0.6643\u001b[0m  0.0832\n",
      "Tuned in: 8.32845425605774\n",
      "{'lr': 0.01, 'max_epochs': 2, 'module__drop': 0.2, 'module__hidden': 20}\n"
     ]
    },
    {
     "data": {
      "text/html": [
       "<div>\n",
       "<style scoped>\n",
       "    .dataframe tbody tr th:only-of-type {\n",
       "        vertical-align: middle;\n",
       "    }\n",
       "\n",
       "    .dataframe tbody tr th {\n",
       "        vertical-align: top;\n",
       "    }\n",
       "\n",
       "    .dataframe thead th {\n",
       "        text-align: right;\n",
       "    }\n",
       "</style>\n",
       "<table border=\"1\" class=\"dataframe\">\n",
       "  <thead>\n",
       "    <tr style=\"text-align: right;\">\n",
       "      <th></th>\n",
       "      <th>Classifier</th>\n",
       "      <th>Type</th>\n",
       "      <th>Tuning</th>\n",
       "      <th>Accuracy</th>\n",
       "      <th>AUC</th>\n",
       "    </tr>\n",
       "  </thead>\n",
       "  <tbody>\n",
       "    <tr>\n",
       "      <th>1</th>\n",
       "      <td>ADB</td>\n",
       "      <td>test</td>\n",
       "      <td>base</td>\n",
       "      <td>0.650338</td>\n",
       "      <td>0.639414</td>\n",
       "    </tr>\n",
       "    <tr>\n",
       "      <th>3</th>\n",
       "      <td>RF</td>\n",
       "      <td>test</td>\n",
       "      <td>base</td>\n",
       "      <td>0.636824</td>\n",
       "      <td>0.609837</td>\n",
       "    </tr>\n",
       "    <tr>\n",
       "      <th>5</th>\n",
       "      <td>GDB</td>\n",
       "      <td>test</td>\n",
       "      <td>base</td>\n",
       "      <td>0.638514</td>\n",
       "      <td>0.616423</td>\n",
       "    </tr>\n",
       "    <tr>\n",
       "      <th>7</th>\n",
       "      <td>NN</td>\n",
       "      <td>test</td>\n",
       "      <td>base</td>\n",
       "      <td>0.625000</td>\n",
       "      <td>0.536620</td>\n",
       "    </tr>\n",
       "    <tr>\n",
       "      <th>9</th>\n",
       "      <td>ADB</td>\n",
       "      <td>test</td>\n",
       "      <td>tuned</td>\n",
       "      <td>0.640203</td>\n",
       "      <td>0.630278</td>\n",
       "    </tr>\n",
       "    <tr>\n",
       "      <th>11</th>\n",
       "      <td>RF</td>\n",
       "      <td>test</td>\n",
       "      <td>tuned</td>\n",
       "      <td>0.623311</td>\n",
       "      <td>0.618615</td>\n",
       "    </tr>\n",
       "    <tr>\n",
       "      <th>13</th>\n",
       "      <td>GDB</td>\n",
       "      <td>test</td>\n",
       "      <td>tuned</td>\n",
       "      <td>0.635135</td>\n",
       "      <td>0.623064</td>\n",
       "    </tr>\n",
       "    <tr>\n",
       "      <th>15</th>\n",
       "      <td>NN</td>\n",
       "      <td>test</td>\n",
       "      <td>tuned</td>\n",
       "      <td>0.601351</td>\n",
       "      <td>0.501120</td>\n",
       "    </tr>\n",
       "  </tbody>\n",
       "</table>\n",
       "</div>"
      ],
      "text/plain": [
       "   Classifier  Type Tuning  Accuracy       AUC\n",
       "1         ADB  test   base  0.650338  0.639414\n",
       "3          RF  test   base  0.636824  0.609837\n",
       "5         GDB  test   base  0.638514  0.616423\n",
       "7          NN  test   base  0.625000  0.536620\n",
       "9         ADB  test  tuned  0.640203  0.630278\n",
       "11         RF  test  tuned  0.623311  0.618615\n",
       "13        GDB  test  tuned  0.635135  0.623064\n",
       "15         NN  test  tuned  0.601351  0.501120"
      ]
     },
     "execution_count": 4,
     "metadata": {},
     "output_type": "execute_result"
    }
   ],
   "source": [
    "### Just gonna take a random 10th for validation\n",
    "X, valX, Y, valY = train_test_split(X0, Y0, shuffle=True, test_size=0.1)\n",
    "pars = get_pars(X)\n",
    "X, valX = t.process_with_pars(X, pars), t.process_with_pars(valX, pars)\n",
    "\n",
    "frac = 1 / 100\n",
    "t_size, v_size = int(X.shape[0] * frac), int(valX.shape[0] * frac)\n",
    "train_res, test_res, models = clsf.TuneClassifiers(X[:t_size], valX[:v_size], Y[:t_size], valY[:v_size], \\\n",
    "                                                   algs=['NN', 'RF', 'GDB', 'ADB'], nFeat=D)\n",
    "test_res"
   ]
  },
  {
   "cell_type": "markdown",
   "metadata": {},
   "source": [
    "### Save grid search results"
   ]
  },
  {
   "cell_type": "code",
   "execution_count": 5,
   "metadata": {},
   "outputs": [],
   "source": [
    "cv_res_dict = {}\n",
    "for name, model in models.items():\n",
    "    info_dict = model.cv_results_\n",
    "    s = list(zip(info_dict['params'],\\\n",
    "                 info_dict['mean_test_score'],\\\n",
    "                 info_dict['std_test_score']))\n",
    "    s = sorted(s, key=lambda x: x[1], reverse=True) # Sort by mean test_score\n",
    "    cv_res_dict[name] = s\n",
    "\n",
    "gName = 'grid_search.json'\n",
    "with open(gName, 'w') as f:\n",
    "    json.dump(cv_res_dict, f, indent=4, sort_keys=True)"
   ]
  },
  {
   "cell_type": "markdown",
   "metadata": {},
   "source": [
    "### Cross Validation"
   ]
  },
  {
   "cell_type": "code",
   "execution_count": 15,
   "metadata": {},
   "outputs": [
    {
     "name": "stderr",
     "output_type": "stream",
     "text": [
      "CV fold: 3it [02:01, 40.62s/it]\n"
     ]
    }
   ],
   "source": [
    "#clf = RandomForestClassifier(max_features=0.5, n_estimators=1000, min_samples_leaf=75)\n",
    "clf = RandomForestClassifier(**models['RF'].best_params_)\n",
    "#clf = AdaBoostClassifier(**models['ADB'].best_params_)\n",
    "#clf = GradientBoostingClassifier(**models['GDB'].best_params_)\n",
    "#clf = NeuralNetClassifier(clsf.NNModel, **models['NN'].best_params_,\\\n",
    "#                          iterator_train__shuffle=True, module__nFeat=D)\n",
    "aucs, accs = clsf.cross_val(clf, X0, Y0, (get_pars, t.process_with_pars))\n",
    "#aucs.mean(), accs.mean()"
   ]
  },
  {
   "cell_type": "markdown",
   "metadata": {},
   "source": [
    "# Final Fitting"
   ]
  },
  {
   "cell_type": "code",
   "execution_count": 7,
   "metadata": {},
   "outputs": [],
   "source": [
    "# Maybe parallelize\n",
    "if 'n_jobs' in clf.get_params():\n",
    "    clf.set_params(n_jobs=n_cores)\n",
    "\n",
    "pars = get_pars(X0)\n",
    "process = lambda x: t.process_with_pars(x, pars).astype(np.float32)\n",
    "X = process(X0)\n",
    "clf.fit(X, Y0);"
   ]
  },
  {
   "cell_type": "markdown",
   "metadata": {},
   "source": [
    "### Save Model"
   ]
  },
  {
   "cell_type": "code",
   "execution_count": 8,
   "metadata": {},
   "outputs": [],
   "source": [
    "fName = datetime.today().strftime('%y%m%d_%H%M') + \"_model.pkl\"\n",
    "\n",
    "with open(fName, 'wb') as f:\n",
    "    pickle.dump(clf, f)\n",
    "    \n",
    "with open(fName, 'rb') as f:\n",
    "    clf = pickle.load(f)"
   ]
  },
  {
   "cell_type": "markdown",
   "metadata": {},
   "source": [
    "### Feature Importances"
   ]
  },
  {
   "cell_type": "code",
   "execution_count": 9,
   "metadata": {},
   "outputs": [
    {
     "data": {
      "text/plain": [
       "{'ask1vol': 0.17649696529924358,\n",
       " 'bid1vol': 0.07116002447660612,\n",
       " 'id': 0.0697959490356504,\n",
       " 'bid5vol': 0.036525107822504836,\n",
       " 'ask5vol': 0.03592769473060931,\n",
       " 'bid4vol': 0.03552304563789353,\n",
       " 'bid2vol': 0.03499491715770708,\n",
       " 'ask2vol': 0.03490456669866702,\n",
       " 'bid3vol': 0.034387858392109234,\n",
       " 'ask4vol': 0.03432820914238,\n",
       " 'ask3vol': 0.03411281636543517,\n",
       " 'mid': 0.033795849277751006,\n",
       " 'last_price': 0.031522942919964596,\n",
       " 'bid5': 0.027645266765396196,\n",
       " 'ask5': 0.027547191439308994,\n",
       " 'ask4': 0.02727609219967185,\n",
       " 'bid1': 0.02726081084907805,\n",
       " 'bid3': 0.026939326181381104,\n",
       " 'ask1': 0.026923708728545093,\n",
       " 'bid4': 0.026601277326857572,\n",
       " 'ask3': 0.026497795542240712,\n",
       " 'ask2': 0.026121658032487588,\n",
       " 'bid2': 0.026112839768608394,\n",
       " 'transacted_qty': 0.022042135712414687,\n",
       " 'closed_position_qty': 0.01673938083343613,\n",
       " 'd_open_interest': 0.01461878092697529,\n",
       " 'opened_position_qty ': 0.014197788737076404}"
      ]
     },
     "execution_count": 9,
     "metadata": {},
     "output_type": "execute_result"
    }
   ],
   "source": [
    "imp_dict = {}\n",
    "if hasattr(clf, 'feature_importances_'):\n",
    "    inds = np.array(sorted(range(len(X0_df.columns)), \\\n",
    "                           key=lambda x: clf.feature_importances_[x], \\\n",
    "                           reverse=True))\n",
    "    imp_dict = dict(zip(X0_df.columns[inds], clf.feature_importances_[inds]))\n",
    "imp_dict"
   ]
  },
  {
   "cell_type": "markdown",
   "metadata": {},
   "source": [
    "### Final train performance (on original labels)"
   ]
  },
  {
   "cell_type": "code",
   "execution_count": 10,
   "metadata": {},
   "outputs": [
    {
     "data": {
      "text/plain": [
       "0.824646173034451"
      ]
     },
     "execution_count": 10,
     "metadata": {},
     "output_type": "execute_result"
    }
   ],
   "source": [
    "auc(Y_c0, clf.predict_proba(X)[:,1]) # Get auc on original labels"
   ]
  },
  {
   "cell_type": "code",
   "execution_count": 11,
   "metadata": {},
   "outputs": [
    {
     "data": {
      "text/plain": [
       "0.7369948343968399"
      ]
     },
     "execution_count": 11,
     "metadata": {},
     "output_type": "execute_result"
    }
   ],
   "source": [
    "(clf.predict(X) == Y0).mean()"
   ]
  },
  {
   "cell_type": "markdown",
   "metadata": {},
   "source": [
    "# Get Predictions on Test Set"
   ]
  },
  {
   "cell_type": "code",
   "execution_count": 12,
   "metadata": {},
   "outputs": [],
   "source": [
    "test_df0 = pd.read_csv('test.csv')\n",
    "tX = t.transform_df(test_df0)\n",
    "tX = process(tX)\n",
    "\n",
    "output = clf.predict_proba(tX)[:, 1]\n",
    "     \n",
    "output_df = pd.DataFrame({'id':test_df0['id'], 'Predicted': output})\n",
    "output_df.to_csv(f\"submission_{datetime.today().strftime('%y%m%d_%H%M')}.csv\", index=False)"
   ]
  },
  {
   "cell_type": "markdown",
   "metadata": {},
   "source": [
    "### Sanity checks on output"
   ]
  },
  {
   "cell_type": "code",
   "execution_count": 13,
   "metadata": {},
   "outputs": [
    {
     "name": "stdout",
     "output_type": "stream",
     "text": [
      "mean of train_labels: 0.3569583713157095\n",
      "mean of train_preds: 0.38419169229293704\n"
     ]
    },
    {
     "data": {
      "image/png": "[encoded data removed]",
      "text/plain": [
       "<Figure size 432x288 with 1 Axes>"
      ]
     },
     "metadata": {
      "needs_background": "light"
     },
     "output_type": "display_data"
    }
   ],
   "source": [
    "assert(np.all((0 <= output) & (output <= 1)))\n",
    "print(f'mean of train_labels: {np.mean(Y_c0)}')\n",
    "print(f'mean of train_preds: {np.mean(output)}')\n",
    "plt.hist(output);"
   ]
  },
  {
   "cell_type": "markdown",
   "metadata": {},
   "source": [
    "# random code scraps"
   ]
  },
  {
   "cell_type": "code",
   "execution_count": 14,
   "metadata": {},
   "outputs": [
    {
     "ename": "ValueError",
     "evalue": "Garbage Beyond!",
     "output_type": "error",
     "traceback": [
      "\u001b[0;31m---------------------------------------------------------------------------\u001b[0m",
      "\u001b[0;31mValueError\u001b[0m                                Traceback (most recent call last)",
      "\u001b[0;32m<ipython-input-14-b3d7f98920aa>\u001b[0m in \u001b[0;36m<module>\u001b[0;34m\u001b[0m\n\u001b[0;32m----> 1\u001b[0;31m \u001b[0;32mraise\u001b[0m \u001b[0mValueError\u001b[0m\u001b[0;34m(\u001b[0m\u001b[0;34m'Garbage Beyond!'\u001b[0m\u001b[0;34m)\u001b[0m\u001b[0;34m\u001b[0m\u001b[0;34m\u001b[0m\u001b[0m\n\u001b[0m",
      "\u001b[0;31mValueError\u001b[0m: Garbage Beyond!"
     ]
    }
   ],
   "source": [
    "raise ValueError('Garbage Beyond!')"
   ]
  },
  {
   "cell_type": "code",
   "execution_count": null,
   "metadata": {},
   "outputs": [],
   "source": [
    "parFName = 'best_pars.pars'\n",
    "with open(parFName, 'rb') as f:\n",
    "    best_pars = pickle.load(f)\n",
    "    \n",
    "best_pars"
   ]
  },
  {
   "cell_type": "code",
   "execution_count": null,
   "metadata": {},
   "outputs": [],
   "source": [
    "pars = get_pars(X0)\n",
    "process = lambda x: t.process_with_pars(x, pars)\n",
    "reps = 4\n",
    "\n",
    "for clf in tqdm.tqdm_notebook([RandomForestClassifier(max_features=0.3, min_samples_leaf=100, n_estimators=150),\n",
    "            RandomForestClassifier(max_features=0.4, min_samples_leaf=80, n_estimators=150),\n",
    "            RandomForestClassifier(max_features=0.5, min_samples_leaf=50, n_estimators=150)] * reps):\n",
    "    # Maybe parallelize\n",
    "    if 'n_jobs' in clf.get_params():\n",
    "        clf.set_params(n_jobs=n_cores)\n",
    "    X = process(X0)\n",
    "    clf.fit(X, Y0)\n",
    "    fName = datetime.today().strftime('%y%m%d_%H%M') + \"_model.pkl\"\n",
    "    with open(fName, 'wb') as f:\n",
    "        pickle.dump(clf, f)"
   ]
  }
 ],
 "metadata": {
  "kernelspec": {
   "display_name": "neural",
   "language": "python",
   "name": "neural"
  },
  "language_info": {
   "codemirror_mode": {
    "name": "ipython",
    "version": 3
   },
   "file_extension": ".py",
   "mimetype": "text/x-python",
   "name": "python",
   "nbconvert_exporter": "python",
   "pygments_lexer": "ipython3",
   "version": "3.6.7"
  }
 },
 "nbformat": 4,
 "nbformat_minor": 2
}
