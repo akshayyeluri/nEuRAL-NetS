{
 "cells": [
  {
   "cell_type": "code",
   "execution_count": 1,
   "metadata": {},
   "outputs": [],
   "source": [
    "import numpy as np\n",
    "import pandas as pd\n",
    "import pickle\n",
    "import tqdm\n",
    "import os, os.path\n",
    "from datetime import datetime\n",
    "import matplotlib.pyplot as plt\n",
    "%matplotlib inline\n",
    "\n",
    "from sklearn.metrics import roc_auc_score as auc\n",
    "from sklearn.model_selection import train_test_split, KFold\n",
    "from sklearn.ensemble import RandomForestClassifier, AdaBoostClassifier, GradientBoostingClassifier\n",
    "from mlxtend.classifier import EnsembleVoteClassifier\n",
    "\n",
    "import transforms as t\n",
    "import classifiers as clsf\n",
    "\n",
    "np.random.seed(69)"
   ]
  },
  {
   "cell_type": "markdown",
   "metadata": {},
   "source": [
    "# Data Preprocessing"
   ]
  },
  {
   "cell_type": "code",
   "execution_count": 2,
   "metadata": {},
   "outputs": [],
   "source": [
    "train_df0 = pd.read_csv('train.csv')\n",
    "# Y0 are new labels (maybe smoothed or with regression), Y_c0 are original class labels\n",
    "X0_df, Y_c0, Y0 = t.transform_df(train_df0, train=True, as_df=True, k=None)\n",
    "X0 = X0_df.values.astype(np.float32)\n",
    "Y_c0, Y0 = Y_c0.astype(np.int64), Y0.astype(np.int64)\n",
    "(N, d) = X0.shape"
   ]
  },
  {
   "cell_type": "code",
   "execution_count": 3,
   "metadata": {},
   "outputs": [],
   "source": [
    "group_inds = t.get_group_inds(X0_df) # This will normalize all prices together, and all vols\n",
    "#group_inds = [] # This will normalize each feature separately\n",
    "def get_pars(X):\n",
    "    return t.get_pars_for_processing(X, group_inds)\n",
    "\n",
    "pars = get_pars(X0)\n",
    "process = lambda x: t.process_with_pars(x, pars).astype(np.float32)\n",
    "X = process(X0)"
   ]
  },
  {
   "cell_type": "markdown",
   "metadata": {},
   "source": [
    "# Ensembling from trained Models"
   ]
  },
  {
   "cell_type": "code",
   "execution_count": 4,
   "metadata": {},
   "outputs": [
    {
     "data": {
      "application/vnd.jupyter.widget-view+json": {
       "model_id": "ed75227064cc438096f0be65bf89ef94",
       "version_major": 2,
       "version_minor": 0
      },
      "text/plain": [
       "HBox(children=(IntProgress(value=0, max=5), HTML(value='')))"
      ]
     },
     "metadata": {},
     "output_type": "display_data"
    },
    {
     "name": "stdout",
     "output_type": "stream",
     "text": [
      "\n"
     ]
    },
    {
     "data": {
      "text/plain": [
       "dict_keys(['randomforestclassifier-1', 'randomforestclassifier-2', 'randomforestclassifier-3', 'randomforestclassifier-4', 'randomforestclassifier-5'])"
      ]
     },
     "execution_count": 4,
     "metadata": {},
     "output_type": "execute_result"
    }
   ],
   "source": [
    "#model_names = ['gdb_k5_smoothing.pkl', 'adb_k4_smoothing.pkl', 'rf_k4_smoothing.pkl']\n",
    "\n",
    "ens_dir = 'to_ensemble'\n",
    "model_names = [os.path.join(ens_dir, n) for n in os.listdir(ens_dir) \\\n",
    "                                   if os.path.splitext(n)[1] == '.pkl']\n",
    "\n",
    "models=[]\n",
    "for n in model_names:\n",
    "    with open(n, 'rb') as f:\n",
    "        models.append(pickle.load(f))\n",
    "\n",
    "#weights = np.array([0.2, 0.6, 0.2])\n",
    "weights = np.array([auc(Y_c0, m.predict_proba(X)[:,1]) for m in tqdm.tqdm_notebook(models)])\n",
    "weights = list(weights / weights.sum()) # Has to be a list unfortunately\n",
    "\n",
    "clf = EnsembleVoteClassifier(clfs=models,voting=\"soft\",refit=False, weights=weights)\n",
    "clf.named_clfs.keys()"
   ]
  },
  {
   "cell_type": "markdown",
   "metadata": {},
   "source": [
    "# Final Fitting"
   ]
  },
  {
   "cell_type": "code",
   "execution_count": 5,
   "metadata": {},
   "outputs": [],
   "source": [
    "clf.fit(X, Y0);"
   ]
  },
  {
   "cell_type": "markdown",
   "metadata": {},
   "source": [
    "### Save Model"
   ]
  },
  {
   "cell_type": "code",
   "execution_count": 6,
   "metadata": {},
   "outputs": [],
   "source": [
    "#fName = datetime.today().strftime('%y%m%d_%H%M') + \"_ensemble.pkl\"\n",
    "#\n",
    "#with open(fName, 'wb') as f:\n",
    "#    pickle.dump(clf, f)\n",
    "#    \n",
    "#with open(fName, 'rb') as f:\n",
    "#    clf = pickle.load(f)"
   ]
  },
  {
   "cell_type": "markdown",
   "metadata": {},
   "source": [
    "### Final train auc (on original labels)"
   ]
  },
  {
   "cell_type": "code",
   "execution_count": 7,
   "metadata": {},
   "outputs": [
    {
     "data": {
      "text/plain": [
       "0.53899796326892"
      ]
     },
     "execution_count": 7,
     "metadata": {},
     "output_type": "execute_result"
    }
   ],
   "source": [
    "auc(Y_c0, clf.predict_proba(X)[:,1]) # Get auc on original labels"
   ]
  },
  {
   "cell_type": "code",
   "execution_count": 8,
   "metadata": {},
   "outputs": [
    {
     "data": {
      "text/plain": [
       "0.6427614031533813"
      ]
     },
     "execution_count": 8,
     "metadata": {},
     "output_type": "execute_result"
    }
   ],
   "source": [
    "(clf.predict(X) == Y0).mean()"
   ]
  },
  {
   "cell_type": "markdown",
   "metadata": {},
   "source": [
    "# Get Predictions on Test Set"
   ]
  },
  {
   "cell_type": "code",
   "execution_count": 9,
   "metadata": {},
   "outputs": [],
   "source": [
    "test_df0 = pd.read_csv('test.csv')\n",
    "tX = t.transform_df(test_df0)\n",
    "tX = process(tX)\n",
    "\n",
    "output = t.scale(clf.predict_proba(tX)[:, 1])\n",
    "     \n",
    "output_df = pd.DataFrame({'id':test_df0['id'], 'Predicted': output})\n",
    "output_df.to_csv(f\"submission_ens_{datetime.today().strftime('%y%m%d_%H%M')}.csv\", index=False)"
   ]
  },
  {
   "cell_type": "markdown",
   "metadata": {},
   "source": [
    "### Sanity checks on output"
   ]
  },
  {
   "cell_type": "code",
   "execution_count": 10,
   "metadata": {},
   "outputs": [
    {
     "name": "stdout",
     "output_type": "stream",
     "text": [
      "mean of train_labels: 0.3569583713157095\n",
      "mean of train_preds: 0.5848918968354252\n"
     ]
    },
    {
     "data": {
      "image/png": "[encoded data removed]",
      "text/plain": [
       "<Figure size 432x288 with 1 Axes>"
      ]
     },
     "metadata": {
      "needs_background": "light"
     },
     "output_type": "display_data"
    }
   ],
   "source": [
    "assert(np.all((0 <= output) & (output <= 1)))\n",
    "print(f'mean of train_labels: {np.mean(Y_c0)}')\n",
    "print(f'mean of train_preds: {np.mean(output)}')\n",
    "plt.hist(output);"
   ]
  }
 ],
 "metadata": {
  "kernelspec": {
   "display_name": "neural",
   "language": "python",
   "name": "neural"
  },
  "language_info": {
   "codemirror_mode": {
    "name": "ipython",
    "version": 3
   },
   "file_extension": ".py",
   "mimetype": "text/x-python",
   "name": "python",
   "nbconvert_exporter": "python",
   "pygments_lexer": "ipython3",
   "version": "3.6.7"
  }
 },
 "nbformat": 4,
 "nbformat_minor": 2
}
